{
 "cells": [
  {
   "cell_type": "code",
   "execution_count": 1,
   "metadata": {},
   "outputs": [],
   "source": [
    "import cvxpy as cp\n",
    "import numpy as np"
   ]
  },
  {
   "cell_type": "code",
   "execution_count": 2,
   "metadata": {},
   "outputs": [
    {
     "name": "stdout",
     "output_type": "stream",
     "text": [
      "p: [0.05571753 0.02289115 0.01814812 0.04410518 0.05755752]\n",
      "m: [0.08078721 0.5802404  0.16957052 0.09629893 0.07310294]\n"
     ]
    }
   ],
   "source": [
    "#Problem Input\n",
    "Qx = 0.08\n",
    "delta = 0.005\n",
    "\n",
    "# #test1\n",
    "# K = 1 # Define the number of elements in p and m\n",
    "# p = np.array([0.03]) # Example values\n",
    "# m = np.array([1])  # Example values, ensure sum(m) = 1\n",
    "\n",
    "#test2\n",
    "np.random.seed(123)\n",
    "K = 5 # Define the number of elements in p and m\n",
    "p = np.random.uniform(0, Qx, K)\n",
    "# Generate random values for m such that all elements add up to 1\n",
    "m = np.random.dirichlet(np.ones(K))\n",
    "print(\"p:\", p)\n",
    "print(\"m:\", m)\n",
    "\n",
    "assert len(p) == K\n",
    "assert len(m) == K\n",
    "assert np.sum(m) == 1"
   ]
  },
  {
   "cell_type": "code",
   "execution_count": 3,
   "metadata": {},
   "outputs": [],
   "source": [
    "# Define the optimization variables\n",
    "w = cp.Variable()\n",
    "omega = cp.Variable(K)"
   ]
  },
  {
   "cell_type": "code",
   "execution_count": 4,
   "metadata": {},
   "outputs": [],
   "source": [
    "# Define the constraints\n",
    "constraints = [\n",
    "    omega >= 0,\n",
    "    omega <= 1,\n",
    "    w == cp.sum(omega),\n",
    "    Qx - cp.sum(m * p) - w + 2 * cp.sum(cp.multiply(m, cp.multiply(omega, p))) <= delta,\n",
    "    Qx - cp.sum(m * p) - w + 2 * cp.sum(cp.multiply(m, cp.multiply(omega, p))) >= -delta\n",
    "]"
   ]
  },
  {
   "cell_type": "code",
   "execution_count": 5,
   "metadata": {},
   "outputs": [],
   "source": [
    "# Define the objective function\n",
    "objective = cp.Maximize(w)"
   ]
  },
  {
   "cell_type": "code",
   "execution_count": 6,
   "metadata": {},
   "outputs": [],
   "source": [
    "# Formulate the problem\n",
    "prob = cp.Problem(objective, constraints)"
   ]
  },
  {
   "cell_type": "code",
   "execution_count": 7,
   "metadata": {},
   "outputs": [
    {
     "name": "stdout",
     "output_type": "stream",
     "text": [
      "Optimal value of w: 0.05720367724929709\n",
      "Optimal values of omega: [9.80331630e-10 5.72036717e-02 2.08808633e-09 1.20579510e-09\n",
      " 1.23999238e-09]\n"
     ]
    }
   ],
   "source": [
    "# Solve the problem\n",
    "prob.solve()\n",
    "\n",
    "# Print the results\n",
    "if prob.status == cp.OPTIMAL or prob.status == cp.OPTIMAL_INACCURATE:\n",
    "    print(\"Optimal value of w:\", w.value)\n",
    "    print(\"Optimal values of omega:\", omega.value)\n",
    "else:\n",
    "    print(\"Something went wrong!\")\n",
    "    print(prob.status)"
   ]
  },
  {
   "cell_type": "code",
   "execution_count": 8,
   "metadata": {},
   "outputs": [],
   "source": [
    "if K==1:\n",
    "    assert(np.isclose(w.value, (Qx-np.sum(p)+delta)/(1-2*np.sum(p))))\n",
    "elif K>1:\n",
    "    assert(w.value <= Qx)"
   ]
  }
 ],
 "metadata": {
  "kernelspec": {
   "display_name": "base",
   "language": "python",
   "name": "python3"
  },
  "language_info": {
   "codemirror_mode": {
    "name": "ipython",
    "version": 3
   },
   "file_extension": ".py",
   "mimetype": "text/x-python",
   "name": "python",
   "nbconvert_exporter": "python",
   "pygments_lexer": "ipython3",
   "version": "3.10.13"
  }
 },
 "nbformat": 4,
 "nbformat_minor": 2
}
