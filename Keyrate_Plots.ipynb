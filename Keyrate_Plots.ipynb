{
 "cells": [
  {
   "cell_type": "code",
   "execution_count": null,
   "metadata": {},
   "outputs": [],
   "source": [
    "from Keyrate_Evaluation import *"
   ]
  },
  {
   "cell_type": "code",
   "execution_count": null,
   "metadata": {},
   "outputs": [],
   "source": [
    "start_time = time.time()\n",
    "plot_network_noise_vs_channel_noise(full_size=6, honest_size=4)\n",
    "end_time = time.time()\n",
    "print(f\"plot_network_noise_vs_channel_noise took {end_time - start_time} seconds\")"
   ]
  },
  {
   "cell_type": "code",
   "execution_count": null,
   "metadata": {},
   "outputs": [],
   "source": [
    "start_time = time.time()\n",
    "plot_keyrate_vs_signalrounds(q=0.03, full_size=6, honest_sizes=[0,2,4])\n",
    "end_time = time.time()\n",
    "print(f\"plot_keyrate_vs_signalrounds took {end_time - start_time} seconds\")"
   ]
  },
  {
   "cell_type": "code",
   "execution_count": null,
   "metadata": {},
   "outputs": [],
   "source": [
    "start_time = time.time()\n",
    "plot_keyrate_vs_Qx(full_size=6, honest_sizes=[0,2,4], N=1e7)\n",
    "end_time = time.time()\n",
    "print(f\"plot_keyrate_vs_Qx took {end_time - start_time} seconds\")"
   ]
  },
  {
   "cell_type": "code",
   "execution_count": null,
   "metadata": {},
   "outputs": [],
   "source": [
    "start_time = time.time()\n",
    "plot_asymptotic_keyrate_vs_Qx(full_size=6, honest_sizes=[0,2,4])\n",
    "end_time = time.time()\n",
    "print(f\"plot_asymptotic_keyrate_vs_Qx took {end_time - start_time} seconds\")"
   ]
  },
  {
   "cell_type": "code",
   "execution_count": null,
   "metadata": {},
   "outputs": [],
   "source": [
    "start_time = time.time()\n",
    "plot_noise_tolerance_vs_honest_links(full_size=8, honest_sizes=range(9), N=1e7)\n",
    "end_time = time.time()\n",
    "print(f\"plot_noise_tolerance_vs_honest_links took {end_time - start_time} seconds\")"
   ]
  }
 ],
 "metadata": {
  "kernelspec": {
   "display_name": "base",
   "language": "python",
   "name": "python3"
  },
  "language_info": {
   "codemirror_mode": {
    "name": "ipython",
    "version": 3
   },
   "file_extension": ".py",
   "mimetype": "text/x-python",
   "name": "python",
   "nbconvert_exporter": "python",
   "pygments_lexer": "ipython3",
   "version": "3.10.13"
  }
 },
 "nbformat": 4,
 "nbformat_minor": 2
}
